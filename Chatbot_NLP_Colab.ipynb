{
  "cells": [
    {
      "cell_type": "markdown",
      "metadata": {},
      "source": "# \ud83e\udd16 Chatbot using NLTK, TF-IDF & Cosine Similarity\n\nA simple rule-based chatbot implemented in a Colab notebook."
    },
    {
      "cell_type": "code",
      "execution_count": null,
      "metadata": {},
      "outputs": [],
      "source": "!pip install gradio nltk google-cloud-dialogflow"
    },
    {
      "cell_type": "code",
      "execution_count": null,
      "metadata": {},
      "outputs": [],
      "source": "import numpy as np\nimport nltk\nimport string\nimport random\nnltk.download('punkt')\nnltk.download('wordnet')\nnltk.download('omw-1.4')"
    },
    {
      "cell_type": "markdown",
      "metadata": {},
      "source": "## \ud83d\udcda Reading the Corpus"
    },
    {
      "cell_type": "code",
      "execution_count": null,
      "metadata": {},
      "outputs": [],
      "source": "f = open('chatbot.txt','r',errors='ignore')\nraw_doc = f.read().lower()\nsentence_tokens = nltk.sent_tokenize(raw_doc)\nword_tokens = nltk.word_tokenize(raw_doc)"
    },
    {
      "cell_type": "markdown",
      "metadata": {},
      "source": "## \ud83d\udd04 Preprocessing: Lemmatization and Normalization"
    },
    {
      "cell_type": "code",
      "execution_count": null,
      "metadata": {},
      "outputs": [],
      "source": "lemmer = nltk.stem.WordNetLemmatizer()\n\ndef Lemtokens(tokens):\n    return [lemmer.lemmatize(token) for token in tokens]\n\ndef LemNormalize(text):\n    remove_punc_dict = str.maketrans('', '', string.punctuation)\n    return Lemtokens(nltk.word_tokenize(text.lower().translate(remove_punc_dict)))\n\ntext = \"The cats are running faster than the dogs.\"\nprint(LemNormalize(text))"
    },
    {
      "cell_type": "markdown",
      "metadata": {},
      "source": "## \ud83d\ude4b\u200d\u2642\ufe0f Greeting Inputs"
    },
    {
      "cell_type": "code",
      "execution_count": null,
      "metadata": {},
      "outputs": [],
      "source": "greet_inputs = ('hello','hi','wassup','how are you')\ngreet_response = ('hi','hey','Hey there !' , 'wassup buddy  !!')\n\ndef greet(sentence):\n    for word in sentence.split():\n        if word.lower() in greet_inputs:\n            return random.choice(greet_response)"
    },
    {
      "cell_type": "markdown",
      "metadata": {},
      "source": "## \ud83e\udd16 Bot Response Generator"
    },
    {
      "cell_type": "code",
      "execution_count": null,
      "metadata": {},
      "outputs": [],
      "source": "from sklearn.feature_extraction.text import TfidfVectorizer\nfrom sklearn.metrics.pairwise import cosine_similarity\n\ndef response(user_response):\n    robo1_response = ''\n    sentence_tokens.append(user_response)\n    TfidfVec = TfidfVectorizer(tokenizer=LemNormalize, stop_words='english')\n    tfidf = TfidfVec.fit_transform(sentence_tokens)\n    vals = cosine_similarity(tfidf[-1], tfidf)\n    idx = vals.argsort()[0][-2]\n    flat = vals.flatten()\n    flat.sort()\n    req_tfid = flat[-2]\n    sentence_tokens.pop()\n    if req_tfid == 0:\n        robo1_response = \"I am sorry. Unable to understand you!\"\n    else:\n        robo1_response = sentence_tokens[idx]\n    return robo1_response"
    },
    {
      "cell_type": "markdown",
      "metadata": {},
      "source": "## \ud83d\udcac Chat Loop"
    },
    {
      "cell_type": "code",
      "execution_count": null,
      "metadata": {},
      "outputs": [],
      "source": "flag = True\nprint(\"Hello, I am the Retrieval Learning Bot. Start chatting with me (type 'bye' to exit)\")\n\nwhile flag:\n    user_response = input().lower()\n    if user_response != 'bye':\n        if user_response in ['thanks', 'thank you']:\n            flag = False\n            print(\"Bot: You're welcome!\")\n        elif greet(user_response) is not None:\n            print(\"Bot:\", greet(user_response))\n        else:\n            print(\"Bot:\", response(user_response))\n    else:\n        flag = False\n        print(\"Bot: Goodbye!\")"
    }
  ],
  "metadata": {
    "kernelspec": {
      "display_name": "Python 3",
      "language": "python",
      "name": "python3"
    },
    "language_info": {
      "name": "python",
      "version": "3.x"
    }
  },
  "nbformat": 4,
  "nbformat_minor": 2
}